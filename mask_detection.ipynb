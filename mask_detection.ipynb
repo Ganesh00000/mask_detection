{
 "cells": [
  {
   "cell_type": "code",
   "execution_count": 1,
   "id": "87c589bb",
   "metadata": {},
   "outputs": [],
   "source": [
    "import cv2\n",
    "import numpy as np"
   ]
  },
  {
   "cell_type": "code",
   "execution_count": 2,
   "id": "295dc7ea",
   "metadata": {},
   "outputs": [],
   "source": [
    "import numpy as np\n",
    "import pandas as pd\n",
    "import matplotlib.pyplot as plt\n",
    "import seaborn as sb"
   ]
  },
  {
   "cell_type": "code",
   "execution_count": 3,
   "id": "bf98ad2c",
   "metadata": {},
   "outputs": [
    {
     "name": "stdout",
     "output_type": "stream",
     "text": [
      "INFO:tensorflow:Enabling eager execution\n",
      "INFO:tensorflow:Enabling v2 tensorshape\n",
      "INFO:tensorflow:Enabling resource variables\n",
      "INFO:tensorflow:Enabling tensor equality\n",
      "INFO:tensorflow:Enabling control flow v2\n"
     ]
    }
   ],
   "source": [
    "import tensorflow as tf\n",
    "from tensorflow import keras\n"
   ]
  },
  {
   "cell_type": "code",
   "execution_count": 4,
   "id": "92bc9eb9",
   "metadata": {},
   "outputs": [],
   "source": [
    "import pathlib"
   ]
  },
  {
   "cell_type": "code",
   "execution_count": 5,
   "id": "d14195a3",
   "metadata": {},
   "outputs": [],
   "source": [
    "url=\"covid facemask detection\""
   ]
  },
  {
   "cell_type": "code",
   "execution_count": 6,
   "id": "548a72c3",
   "metadata": {},
   "outputs": [],
   "source": [
    "url=pathlib.Path(url)"
   ]
  },
  {
   "cell_type": "code",
   "execution_count": 7,
   "id": "fb91ab28",
   "metadata": {},
   "outputs": [],
   "source": [
    "data={\"without_mask\":list(url.glob(\"without_mask/*\"))[:100],\n",
    "      \"with_mask\":list(url.glob(\"with_mask/*\"))[:100]}"
   ]
  },
  {
   "cell_type": "code",
   "execution_count": 8,
   "id": "7ebbc524",
   "metadata": {},
   "outputs": [
    {
     "data": {
      "text/plain": [
       "100"
      ]
     },
     "execution_count": 8,
     "metadata": {},
     "output_type": "execute_result"
    }
   ],
   "source": [
    "len(data[\"with_mask\"])"
   ]
  },
  {
   "cell_type": "code",
   "execution_count": 9,
   "id": "3e849a63",
   "metadata": {},
   "outputs": [],
   "source": [
    "data_index={\"without_mask\":0,\n",
    "            \"with_mask\":1}"
   ]
  },
  {
   "cell_type": "code",
   "execution_count": 10,
   "id": "4c91585a",
   "metadata": {},
   "outputs": [],
   "source": [
    "x,y=[],[]\n",
    "for nam,lis in data.items():\n",
    "  for l in lis:\n",
    "    img_array=cv2.imread(str(l))\n",
    "    img_resize=cv2.resize(img_array,(224,224))\n",
    "    x.append(img_resize)\n",
    "    y.append(data_index[nam])"
   ]
  },
  {
   "cell_type": "code",
   "execution_count": 11,
   "id": "5ba296db",
   "metadata": {},
   "outputs": [],
   "source": [
    "x=np.array(x)\n",
    "y=np.array(y)"
   ]
  },
  {
   "cell_type": "code",
   "execution_count": 12,
   "id": "556ebc69",
   "metadata": {},
   "outputs": [],
   "source": [
    "x=x/255"
   ]
  },
  {
   "cell_type": "code",
   "execution_count": 13,
   "id": "2429c22e",
   "metadata": {},
   "outputs": [
    {
     "data": {
      "text/plain": [
       "array([0, 0, 0, 0, 0, 0, 0, 0, 0, 0, 0, 0, 0, 0, 0, 0, 0, 0, 0, 0, 0, 0,\n",
       "       0, 0, 0, 0, 0, 0, 0, 0, 0, 0, 0, 0, 0, 0, 0, 0, 0, 0, 0, 0, 0, 0,\n",
       "       0, 0, 0, 0, 0, 0, 0, 0, 0, 0, 0, 0, 0, 0, 0, 0, 0, 0, 0, 0, 0, 0,\n",
       "       0, 0, 0, 0, 0, 0, 0, 0, 0, 0, 0, 0, 0, 0, 0, 0, 0, 0, 0, 0, 0, 0,\n",
       "       0, 0, 0, 0, 0, 0, 0, 0, 0, 0, 0, 0, 1, 1, 1, 1, 1, 1, 1, 1, 1, 1,\n",
       "       1, 1, 1, 1, 1, 1, 1, 1, 1, 1, 1, 1, 1, 1, 1, 1, 1, 1, 1, 1, 1, 1,\n",
       "       1, 1, 1, 1, 1, 1, 1, 1, 1, 1, 1, 1, 1, 1, 1, 1, 1, 1, 1, 1, 1, 1,\n",
       "       1, 1, 1, 1, 1, 1, 1, 1, 1, 1, 1, 1, 1, 1, 1, 1, 1, 1, 1, 1, 1, 1,\n",
       "       1, 1, 1, 1, 1, 1, 1, 1, 1, 1, 1, 1, 1, 1, 1, 1, 1, 1, 1, 1, 1, 1,\n",
       "       1, 1])"
      ]
     },
     "execution_count": 13,
     "metadata": {},
     "output_type": "execute_result"
    }
   ],
   "source": [
    "y"
   ]
  },
  {
   "cell_type": "code",
   "execution_count": 14,
   "id": "0f39e439",
   "metadata": {},
   "outputs": [
    {
     "name": "stdout",
     "output_type": "stream",
     "text": [
      "Epoch 1/20\n",
      "7/7 [==============================] - 3s 330ms/step - loss: 0.6938 - accuracy: 0.4950\n",
      "Epoch 2/20\n",
      "7/7 [==============================] - 3s 358ms/step - loss: 0.6581 - accuracy: 0.6400\n",
      "Epoch 3/20\n",
      "7/7 [==============================] - 3s 415ms/step - loss: 0.6506 - accuracy: 0.5700\n",
      "Epoch 4/20\n",
      "7/7 [==============================] - 2s 337ms/step - loss: 0.5964 - accuracy: 0.7750\n",
      "Epoch 5/20\n",
      "7/7 [==============================] - 2s 334ms/step - loss: 0.6113 - accuracy: 0.6950\n",
      "Epoch 6/20\n",
      "7/7 [==============================] - 2s 332ms/step - loss: 0.5342 - accuracy: 0.7800\n",
      "Epoch 7/20\n",
      "7/7 [==============================] - 2s 326ms/step - loss: 0.4870 - accuracy: 0.8150\n",
      "Epoch 8/20\n",
      "7/7 [==============================] - 2s 349ms/step - loss: 0.5336 - accuracy: 0.7400\n",
      "Epoch 9/20\n",
      "7/7 [==============================] - 3s 358ms/step - loss: 0.4408 - accuracy: 0.8200\n",
      "Epoch 10/20\n",
      "7/7 [==============================] - 2s 335ms/step - loss: 0.4198 - accuracy: 0.8200\n",
      "Epoch 11/20\n",
      "7/7 [==============================] - 2s 328ms/step - loss: 0.3813 - accuracy: 0.8550\n",
      "Epoch 12/20\n",
      "7/7 [==============================] - 2s 324ms/step - loss: 0.3026 - accuracy: 0.8900\n",
      "Epoch 13/20\n",
      "7/7 [==============================] - 2s 354ms/step - loss: 0.3520 - accuracy: 0.8450\n",
      "Epoch 14/20\n",
      "7/7 [==============================] - 2s 344ms/step - loss: 0.2862 - accuracy: 0.9050\n",
      "Epoch 15/20\n",
      "7/7 [==============================] - 2s 346ms/step - loss: 0.2346 - accuracy: 0.9300\n",
      "Epoch 16/20\n",
      "7/7 [==============================] - 3s 378ms/step - loss: 0.2065 - accuracy: 0.9300\n",
      "Epoch 17/20\n",
      "7/7 [==============================] - 3s 370ms/step - loss: 0.1784 - accuracy: 0.9550\n",
      "Epoch 18/20\n",
      "7/7 [==============================] - 3s 367ms/step - loss: 0.2052 - accuracy: 0.9050\n",
      "Epoch 19/20\n",
      "7/7 [==============================] - 3s 357ms/step - loss: 0.1777 - accuracy: 0.9400\n",
      "Epoch 20/20\n",
      "7/7 [==============================] - 3s 406ms/step - loss: 0.1608 - accuracy: 0.9500\n"
     ]
    },
    {
     "data": {
      "text/plain": [
       "<tensorflow.python.keras.callbacks.History at 0x12ca1069160>"
      ]
     },
     "execution_count": 14,
     "metadata": {},
     "output_type": "execute_result"
    }
   ],
   "source": [
    "model=keras.Sequential([\n",
    "        keras.layers.Conv2D(filters=3,kernel_size=(3,3),padding=\"same\",input_shape=(224,224,3)),\n",
    "        keras.layers.MaxPooling2D((2,2)),\n",
    "        keras.layers.Conv2D(filters=3,kernel_size=(3,3),padding=\"same\"),\n",
    "        keras.layers.MaxPooling2D((2,2)),\n",
    "\n",
    "        keras.layers.Flatten(),\n",
    "        keras.layers.Dense(90,activation=\"relu\"),\n",
    "        keras.layers.Dense(80,activation=\"relu\"),\n",
    "        keras.layers.Dense(1,activation=\"sigmoid\")\n",
    "])\n",
    "model.compile(\n",
    "    optimizer=\"SGD\",\n",
    "    loss=\"BinaryCrossentropy\",\n",
    "    metrics=[\"accuracy\"]\n",
    ")\n",
    "model.fit(x,y,epochs=20)"
   ]
  },
  {
   "cell_type": "code",
   "execution_count": 15,
   "id": "c2a075c2",
   "metadata": {},
   "outputs": [],
   "source": [
    "faceCascade=cv2.CascadeClassifier(cv2.data.haarcascades + \"haarcascade_frontalface_default.xml\")"
   ]
  },
  {
   "cell_type": "code",
   "execution_count": 16,
   "id": "4fb724eb",
   "metadata": {},
   "outputs": [],
   "source": [
    "test_url=\"covid facemask detection\""
   ]
  },
  {
   "cell_type": "code",
   "execution_count": 17,
   "id": "528386bb",
   "metadata": {},
   "outputs": [],
   "source": [
    "test_url=pathlib.Path(test_url)"
   ]
  },
  {
   "cell_type": "code",
   "execution_count": 18,
   "id": "bb8f9c3b",
   "metadata": {},
   "outputs": [],
   "source": [
    "test_data={\"without_mask\":list(test_url.glob(\"without_mask/*\"))[100:200],\n",
    "          \"with_mask\":list(test_url.glob(\"with_mask/*\"))[100:200]}"
   ]
  },
  {
   "cell_type": "code",
   "execution_count": 19,
   "id": "178a875e",
   "metadata": {},
   "outputs": [],
   "source": [
    "x_tes,y_tes=[],[]\n",
    "for nam,lis in test_data.items():\n",
    "  for l in lis:\n",
    "    img_array=cv2.imread(str(l))\n",
    "    img_resize=cv2.resize(img_array,(224,224))\n",
    "    x_tes.append(img_resize)\n",
    "    y_tes.append(data_index[nam])"
   ]
  },
  {
   "cell_type": "code",
   "execution_count": 20,
   "id": "64b863a2",
   "metadata": {},
   "outputs": [],
   "source": [
    "x_tes=np.array(x_tes)\n",
    "y_tes=np.array(y_tes)"
   ]
  },
  {
   "cell_type": "code",
   "execution_count": 21,
   "id": "211f2b0e",
   "metadata": {},
   "outputs": [],
   "source": [
    "x_tes=x_tes/255"
   ]
  },
  {
   "cell_type": "code",
   "execution_count": 22,
   "id": "26ac2870",
   "metadata": {},
   "outputs": [
    {
     "name": "stdout",
     "output_type": "stream",
     "text": [
      "7/7 [==============================] - 1s 152ms/step - loss: 0.4741 - accuracy: 0.7700\n"
     ]
    },
    {
     "data": {
      "text/plain": [
       "[0.47409290075302124, 0.7699999809265137]"
      ]
     },
     "execution_count": 22,
     "metadata": {},
     "output_type": "execute_result"
    }
   ],
   "source": [
    "model.evaluate(x_tes,y_tes)"
   ]
  },
  {
   "cell_type": "code",
   "execution_count": 23,
   "id": "358f5d28",
   "metadata": {},
   "outputs": [],
   "source": [
    "#save_url=pathlib.Path(save_url)"
   ]
  },
  {
   "cell_type": "code",
   "execution_count": 24,
   "id": "ce0365ff",
   "metadata": {},
   "outputs": [],
   "source": [
    "#sa=save_url.glob(\"generator/\")"
   ]
  },
  {
   "cell_type": "code",
   "execution_count": 25,
   "id": "210d64b6",
   "metadata": {},
   "outputs": [],
   "source": [
    "color=[255,0,0]"
   ]
  },
  {
   "cell_type": "code",
   "execution_count": 26,
   "id": "3fcd0097",
   "metadata": {},
   "outputs": [],
   "source": [
    "color_tu=tuple((int(color[0]),int(color[1]),int(color[2])))"
   ]
  },
  {
   "cell_type": "code",
   "execution_count": 27,
   "id": "e0cd60eb",
   "metadata": {},
   "outputs": [
    {
     "data": {
      "text/plain": [
       "(255, 0, 0)"
      ]
     },
     "execution_count": 27,
     "metadata": {},
     "output_type": "execute_result"
    }
   ],
   "source": [
    "color_tu"
   ]
  },
  {
   "cell_type": "code",
   "execution_count": 45,
   "id": "9aca61ce",
   "metadata": {},
   "outputs": [
    {
     "name": "stdout",
     "output_type": "stream",
     "text": [
      "[[1.]]\n",
      "[[1.]]\n",
      "[[1.]]\n",
      "[[1.]]\n",
      "[[1.]]\n",
      "[[1.]]\n",
      "[[1.]]\n",
      "[[1.]]\n",
      "[[1.]]\n",
      "[[1.]]\n",
      "[[1.]]\n",
      "[[1.]]\n",
      "[[1.]]\n",
      "[[1.]]\n",
      "[[1.]]\n",
      "[[1.]]\n",
      "[[1.]]\n",
      "[[1.]]\n",
      "[[1.]]\n",
      "[[1.]]\n",
      "[[1.]]\n",
      "[[1.]]\n",
      "[[1.]]\n",
      "[[1.]]\n",
      "[[1.]]\n",
      "[[1.]]\n",
      "[[1.]]\n",
      "[[1.]]\n",
      "[[1.]]\n",
      "[[1.]]\n",
      "[[1.]]\n",
      "[[1.]]\n",
      "[[1.]]\n",
      "[[1.]]\n",
      "[[1.]]\n",
      "[[1.]]\n",
      "[[1.]]\n",
      "[[1.]]\n",
      "[[1.]]\n",
      "[[1.]]\n",
      "[[1.]]\n",
      "[[1.]]\n",
      "[[1.]]\n",
      "[[1.]]\n",
      "[[1.]]\n",
      "[[1.]]\n",
      "[[1.]]\n",
      "[[1.]]\n",
      "[[1.]]\n",
      "[[1.]]\n",
      "[[1.]]\n",
      "[[1.]]\n",
      "[[1.]]\n",
      "[[1.]]\n",
      "[[1.]]\n",
      "[[1.]]\n",
      "[[1.]]\n",
      "[[1.]]\n",
      "[[1.]]\n",
      "[[1.]]\n",
      "[[1.]]\n",
      "[[1.]]\n",
      "[[1.]]\n",
      "[[1.]]\n",
      "[[1.]]\n",
      "[[1.]]\n",
      "[[1.]]\n",
      "[[1.]]\n",
      "[[1.]]\n",
      "[[1.]]\n",
      "[[1.]]\n",
      "[[1.]]\n",
      "[[1.]]\n",
      "[[1.]]\n",
      "[[1.]]\n",
      "[[1.]]\n",
      "[[1.]]\n",
      "[[1.]]\n",
      "[[1.]]\n",
      "[[1.]]\n",
      "[[1.]]\n",
      "[[1.]]\n",
      "[[1.]]\n",
      "[[1.]]\n",
      "[[1.]]\n",
      "[[1.]]\n",
      "[[1.]]\n",
      "[[1.]]\n",
      "[[1.]]\n",
      "[[1.]]\n",
      "[[1.]]\n",
      "[[1.]]\n",
      "[[1.]]\n",
      "[[1.]]\n",
      "[[1.]]\n",
      "[[1.]]\n",
      "[[1.]]\n",
      "[[1.]]\n",
      "[[1.]]\n",
      "[[1.]]\n",
      "[[1.]]\n",
      "[[1.]]\n",
      "[[1.]]\n",
      "[[1.]]\n",
      "[[1.]]\n",
      "[[1.]]\n",
      "[[1.]]\n",
      "[[1.]]\n",
      "[[1.]]\n",
      "[[1.]]\n",
      "[[1.]]\n",
      "[[1.]]\n",
      "[[1.]]\n",
      "[[1.]]\n",
      "[[1.]]\n",
      "[[1.]]\n",
      "[[1.]]\n",
      "[[1.]]\n",
      "[[1.]]\n",
      "[[1.]]\n",
      "[[1.]]\n",
      "[[1.]]\n",
      "[[1.]]\n",
      "[[1.]]\n",
      "[[1.]]\n",
      "[[1.]]\n",
      "[[1.]]\n",
      "[[1.]]\n",
      "[[1.]]\n",
      "[[1.]]\n",
      "[[1.]]\n",
      "[[1.]]\n",
      "[[1.]]\n",
      "[[1.]]\n",
      "[[1.]]\n",
      "[[1.]]\n",
      "[[1.]]\n",
      "[[1.]]\n",
      "[[1.]]\n",
      "[[1.]]\n",
      "[[1.]]\n",
      "[[1.]]\n",
      "[[1.]]\n",
      "[[1.]]\n",
      "[[1.]]\n",
      "[[1.]]\n",
      "[[1.]]\n",
      "[[1.]]\n",
      "[[1.]]\n",
      "[[1.]]\n",
      "[[1.]]\n",
      "[[1.]]\n",
      "[[1.]]\n",
      "[[1.]]\n",
      "[[1.]]\n",
      "[[1.]]\n",
      "[[1.]]\n",
      "[[1.]]\n",
      "[[1.]]\n",
      "[[1.]]\n",
      "[[1.]]\n",
      "[[1.]]\n",
      "[[1.]]\n",
      "[[1.]]\n",
      "[[1.]]\n",
      "[[1.]]\n",
      "[[6.376267e-19]]\n",
      "[[0.]]\n",
      "[[1.]]\n",
      "[[1.]]\n",
      "[[1.]]\n",
      "[[1.]]\n",
      "[[1.]]\n",
      "[[1.]]\n",
      "[[1.]]\n",
      "[[1.]]\n",
      "[[1.]]\n",
      "[[1.]]\n",
      "[[1.]]\n",
      "[[1.]]\n",
      "[[1.]]\n",
      "[[1.]]\n",
      "[[1.]]\n",
      "[[1.]]\n",
      "[[1.]]\n",
      "[[1.]]\n",
      "[[1.]]\n",
      "[[1.]]\n",
      "[[1.]]\n",
      "[[1.]]\n",
      "[[1.]]\n",
      "[[1.]]\n",
      "[[1.]]\n",
      "[[1.]]\n",
      "[[1.]]\n",
      "[[0.99997145]]\n",
      "[[3.5887508e-06]]\n",
      "[[2.3467371e-14]]\n",
      "[[6.129784e-12]]\n",
      "[[0.1523177]]\n",
      "[[0.96019924]]\n",
      "[[0.9999995]]\n",
      "[[0.90456617]]\n",
      "[[0.99995553]]\n",
      "[[0.99979913]]\n",
      "[[0.9142003]]\n",
      "[[2.6725152e-07]]\n",
      "[[4.873062e-20]]\n",
      "[[4.751095e-25]]\n",
      "[[0.]]\n",
      "[[1.1113758e-37]]\n",
      "[[1.2272666e-35]]\n",
      "[[0.]]\n",
      "[[0.]]\n",
      "[[0.]]\n",
      "[[1.4305459e-28]]\n",
      "[[3.068918e-14]]\n",
      "[[0.9748986]]\n",
      "[[1.]]\n",
      "[[1.]]\n",
      "[[1.]]\n",
      "[[1.]]\n",
      "[[1.]]\n",
      "[[1.]]\n",
      "[[1.]]\n",
      "[[1.]]\n",
      "[[1.]]\n",
      "[[1.]]\n",
      "[[0.01591423]]\n",
      "[[6.950488e-12]]\n",
      "[[3.2484399e-19]]\n",
      "[[2.2800385e-22]]\n",
      "[[5.8263523e-13]]\n",
      "[[2.9651415e-09]]\n",
      "[[3.654331e-05]]\n",
      "[[0.96434844]]\n",
      "[[0.99969065]]\n",
      "[[0.0004485]]\n",
      "[[3.387361e-05]]\n",
      "[[2.2019977e-09]]\n",
      "[[7.761362e-08]]\n",
      "[[8.387344e-12]]\n",
      "[[6.270539e-09]]\n",
      "[[3.96712e-15]]\n",
      "[[5.760966e-17]]\n",
      "[[2.7176647e-19]]\n",
      "[[5.896228e-19]]\n",
      "[[1.27502356e-17]]\n",
      "[[3.9277426e-15]]\n",
      "[[3.4368087e-14]]\n",
      "[[2.2490077e-16]]\n",
      "[[1.2937446e-13]]\n",
      "[[5.446891e-16]]\n",
      "[[1.13253814e-13]]\n",
      "[[3.241836e-15]]\n",
      "[[1.7568433e-11]]\n",
      "[[1.0739016e-08]]\n",
      "[[0.00927067]]\n",
      "[[6.0891143e-05]]\n",
      "[[0.8678124]]\n",
      "[[0.8577397]]\n",
      "[[0.99629927]]\n",
      "[[0.8129228]]\n",
      "[[0.00215292]]\n",
      "[[0.00013557]]\n",
      "[[1.4013211e-08]]\n",
      "[[1.7077424e-06]]\n",
      "[[8.050849e-05]]\n",
      "[[2.6691797e-08]]\n",
      "[[1.4712713e-05]]\n",
      "[[4.1513658e-07]]\n",
      "[[7.358503e-05]]\n",
      "[[0.00686124]]\n",
      "[[0.8227519]]\n",
      "[[0.8365081]]\n",
      "[[3.271182e-05]]\n",
      "[[0.03984287]]\n",
      "[[0.08339044]]\n",
      "[[0.02716663]]\n",
      "[[0.1419355]]\n",
      "[[0.90058637]]\n",
      "[[0.9958122]]\n",
      "[[0.8559897]]\n",
      "[[0.84515554]]\n",
      "[[0.42265823]]\n",
      "[[0.54193324]]\n",
      "[[0.02322617]]\n",
      "[[0.00015879]]\n",
      "[[0.00063252]]\n",
      "[[0.00074583]]\n",
      "[[2.2446598e-05]]\n",
      "[[0.0003331]]\n",
      "[[0.00080389]]\n",
      "[[3.4506602e-11]]\n",
      "[[1.3506077e-18]]\n",
      "[[1.4394478e-19]]\n",
      "[[3.4095934e-30]]\n",
      "[[4.711065e-25]]\n",
      "[[2.0190791e-28]]\n",
      "[[1.4928664e-33]]\n",
      "[[2.8641957e-31]]\n",
      "[[1.9403133e-30]]\n",
      "[[1.0949172e-31]]\n",
      "[[1.497766e-26]]\n",
      "[[1.9298748e-23]]\n",
      "[[8.729136e-33]]\n",
      "[[3.254738e-36]]\n",
      "[[8.632414e-32]]\n",
      "[[2.399857e-28]]\n",
      "[[1.877043e-19]]\n",
      "[[6.4033306e-13]]\n",
      "[[0.00022972]]\n",
      "[[1.857034e-11]]\n",
      "[[5.926232e-11]]\n",
      "[[1.3955358e-06]]\n",
      "[[7.977499e-13]]\n",
      "[[7.464601e-26]]\n",
      "[[1.7360492e-13]]\n",
      "[[1.]]\n",
      "[[0.9284134]]\n",
      "[[3.98041e-32]]\n",
      "[[5.1008074e-29]]\n",
      "[[4.7387126e-18]]\n",
      "[[7.2560255e-08]]\n",
      "[[7.287566e-06]]\n",
      "[[6.835338e-11]]\n",
      "[[2.3587646e-17]]\n",
      "[[3.6836496e-33]]\n",
      "[[8.175741e-34]]\n",
      "[[2.2436316e-34]]\n",
      "[[5.641295e-38]]\n",
      "[[7.559217e-27]]\n",
      "[[9.6746185e-20]]\n",
      "[[8.2345225e-19]]\n",
      "[[3.3739762e-21]]\n",
      "[[3.614228e-29]]\n",
      "[[6.728009e-25]]\n",
      "[[7.5730093e-28]]\n",
      "[[1.6655459e-26]]\n",
      "[[1.]]\n",
      "[[1.]]\n",
      "[[1.]]\n",
      "[[1.]]\n",
      "[[1.]]\n",
      "[[1.]]\n",
      "[[1.]]\n",
      "[[1.]]\n",
      "[[1.]]\n",
      "[[1.]]\n",
      "[[1.]]\n",
      "[[0.93800724]]\n",
      "[[0.99999833]]\n",
      "[[0.9999988]]\n",
      "[[0.04671276]]\n",
      "[[1.]]\n",
      "[[1.]]\n",
      "[[1.]]\n",
      "[[1.]]\n",
      "[[0.77806246]]\n",
      "[[9.026875e-31]]\n",
      "[[1.]]\n",
      "[[1.]]\n",
      "[[1.]]\n",
      "[[1.]]\n",
      "[[1.]]\n",
      "[[1.]]\n",
      "[[1.]]\n",
      "[[1.]]\n",
      "[[1.]]\n",
      "[[1.]]\n",
      "[[1.]]\n",
      "[[1.]]\n",
      "[[1.]]\n",
      "[[1.]]\n",
      "[[1.]]\n",
      "[[1.]]\n",
      "[[1.]]\n",
      "[[1.]]\n",
      "[[1.]]\n",
      "[[1.]]\n",
      "[[1.]]\n",
      "[[1.]]\n",
      "[[1.]]\n",
      "[[1.]]\n",
      "[[1.]]\n",
      "[[1.]]\n",
      "[[1.]]\n",
      "[[1.]]\n",
      "[[1.]]\n",
      "[[1.]]\n",
      "[[1.]]\n",
      "[[1.]]\n",
      "[[1.]]\n",
      "[[1.]]\n",
      "[[1.]]\n",
      "[[1.]]\n",
      "[[1.]]\n",
      "[[1.]]\n",
      "[[1.]]\n"
     ]
    }
   ],
   "source": [
    "cap=cv2.VideoCapture(0)\n",
    "count=0\n",
    "address=\"https://192.168.100.21:8080/video\"\n",
    "cap.open(address)\n",
    "while True:\n",
    "  check,img=cap.read()\n",
    "  #print(img.shape)\n",
    "  #print(img)\n",
    "  gray=cv2.cvtColor(img, cv2.COLOR_BGR2GRAY)\n",
    "  face=faceCascade.detectMultiScale(gray,1.2,5)\n",
    "  #for (x,y,h,w) in face:\n",
    "       #cv2.rectangle(img,(x+y),(x+h,y+w),(255,0,0),1)\n",
    "  img_res=cv2.resize(img,(224,224))\n",
    "  img_res=img_res.reshape(1,224,224,3)\n",
    "  predict=model.predict(img_res)\n",
    "  print(predict)\n",
    "  if predict[0,0]<0.5:\n",
    "        result=\"without_mask\"\n",
    "        #print(\"Gaurav face found\")\n",
    "  else:\n",
    "        result=\"with_mask\"\n",
    "        #print(\"Ganesh face found\")\n",
    "        count+=1\n",
    "        save_url=\"./face recognisation/generate/\"+str(count)+\".jpg\"\n",
    "        cv2.imwrite(save_url,img)\n",
    "  image=cv2.putText(img,result,(50,50),cv2.FONT_HERSHEY_SIMPLEX,1,(255,0,0),1,cv2.LINE_AA)\n",
    "  cv2.imshow(\"predict\",image)\n",
    "  if cv2.waitKey(1)==ord(\"f\"):\n",
    "    break\n",
    "cap.release()\n",
    "cv2.destroyAllWindows()"
   ]
  },
  {
   "cell_type": "code",
   "execution_count": 29,
   "id": "5e79b512",
   "metadata": {},
   "outputs": [],
   "source": [
    "img=\"new\""
   ]
  },
  {
   "cell_type": "code",
   "execution_count": 30,
   "id": "b0de3e0d",
   "metadata": {},
   "outputs": [],
   "source": [
    "img=pathlib.Path(img)"
   ]
  },
  {
   "cell_type": "code",
   "execution_count": 31,
   "id": "0e304b70",
   "metadata": {},
   "outputs": [
    {
     "data": {
      "text/plain": [
       "WindowsPath('new')"
      ]
     },
     "execution_count": 31,
     "metadata": {},
     "output_type": "execute_result"
    }
   ],
   "source": [
    "img"
   ]
  },
  {
   "cell_type": "code",
   "execution_count": 32,
   "id": "63563050",
   "metadata": {},
   "outputs": [],
   "source": [
    "img_array=cv2.imread(str(list(img.glob(\"test/*\"))[1]))"
   ]
  },
  {
   "cell_type": "code",
   "execution_count": 33,
   "id": "d3f38c32",
   "metadata": {},
   "outputs": [],
   "source": [
    "img_resize=cv2.resize(img_array,(224,224))"
   ]
  },
  {
   "cell_type": "code",
   "execution_count": 34,
   "id": "484d109a",
   "metadata": {},
   "outputs": [
    {
     "data": {
      "text/plain": [
       "<matplotlib.image.AxesImage at 0x12c9f6e71c0>"
      ]
     },
     "execution_count": 34,
     "metadata": {},
     "output_type": "execute_result"
    },
    {
     "data": {
      "image/png": "[encoded data removed]",
      "text/plain": [
       "<Figure size 432x288 with 1 Axes>"
      ]
     },
     "metadata": {
      "needs_background": "light"
     },
     "output_type": "display_data"
    }
   ],
   "source": [
    "plt.imshow(img_array)"
   ]
  },
  {
   "cell_type": "code",
   "execution_count": 35,
   "id": "923de6ea",
   "metadata": {},
   "outputs": [],
   "source": [
    "x_test=np.array(img_resize)"
   ]
  },
  {
   "cell_type": "code",
   "execution_count": 36,
   "id": "84d4df03",
   "metadata": {},
   "outputs": [],
   "source": [
    "x_test=x_test/255"
   ]
  },
  {
   "cell_type": "code",
   "execution_count": 37,
   "id": "f0c26fea",
   "metadata": {},
   "outputs": [
    {
     "data": {
      "text/plain": [
       "(224, 224, 3)"
      ]
     },
     "execution_count": 37,
     "metadata": {},
     "output_type": "execute_result"
    }
   ],
   "source": [
    "x_test.shape"
   ]
  },
  {
   "cell_type": "code",
   "execution_count": 38,
   "id": "ea598144",
   "metadata": {},
   "outputs": [],
   "source": [
    "x_t=x_test.reshape(1,224,224,3)"
   ]
  },
  {
   "cell_type": "code",
   "execution_count": 39,
   "id": "2b1f779f",
   "metadata": {},
   "outputs": [
    {
     "data": {
      "text/plain": [
       "array([[0.7111922]], dtype=float32)"
      ]
     },
     "execution_count": 39,
     "metadata": {},
     "output_type": "execute_result"
    }
   ],
   "source": [
    "model.predict(x_t)"
   ]
  },
  {
   "cell_type": "code",
   "execution_count": null,
   "id": "7dd3bab9",
   "metadata": {},
   "outputs": [],
   "source": []
  }
 ],
 "metadata": {
  "kernelspec": {
   "display_name": "Python 3",
   "language": "python",
   "name": "python3"
  },
  "language_info": {
   "codemirror_mode": {
    "name": "ipython",
    "version": 3
   },
   "file_extension": ".py",
   "mimetype": "text/x-python",
   "name": "python",
   "nbconvert_exporter": "python",
   "pygments_lexer": "ipython3",
   "version": "3.9.4"
  }
 },
 "nbformat": 4,
 "nbformat_minor": 5
}
